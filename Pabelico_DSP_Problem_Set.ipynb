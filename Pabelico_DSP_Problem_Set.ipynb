{
  "nbformat": 4,
  "nbformat_minor": 0,
  "metadata": {
    "colab": {
      "provenance": [],
      "authorship_tag": "ABX9TyN8QpkRnYcT5sRoktFVjz+i",
      "include_colab_link": true
    },
    "kernelspec": {
      "name": "python3",
      "display_name": "Python 3"
    },
    "language_info": {
      "name": "python"
    }
  },
  "cells": [
    {
      "cell_type": "markdown",
      "metadata": {
        "id": "view-in-github",
        "colab_type": "text"
      },
      "source": [
        "<a href=\"https://colab.research.google.com/github/JohnPaulPabelico/DSP/blob/main/Pabelico_DSP_Problem_Set.ipynb\" target=\"_parent\"><img src=\"https://colab.research.google.com/assets/colab-badge.svg\" alt=\"Open In Colab\"/></a>"
      ]
    },
    {
      "cell_type": "markdown",
      "source": [
        "**DSP PROBLEM SET**"
      ],
      "metadata": {
        "id": "AEpIPWb7catA"
      }
    },
    {
      "cell_type": "markdown",
      "source": [
        "# **RUN FIRST (FOR LIBRARIES)**"
      ],
      "metadata": {
        "id": "p_lyYimkcSs6"
      }
    },
    {
      "cell_type": "code",
      "source": [
        "import numpy as np\n",
        "import matplotlib.pyplot as plt"
      ],
      "metadata": {
        "id": "LaLp5feYZkQR"
      },
      "execution_count": 2,
      "outputs": []
    },
    {
      "cell_type": "markdown",
      "source": [
        "# **Part 1**"
      ],
      "metadata": {
        "id": "xvYuqkwQZYrV"
      }
    },
    {
      "cell_type": "markdown",
      "source": [
        "GIVEN (**RUN FIRST**):"
      ],
      "metadata": {
        "id": "rffjkw-AfQaM"
      }
    },
    {
      "cell_type": "code",
      "execution_count": 6,
      "metadata": {
        "id": "jwEpIFJLZQP_"
      },
      "outputs": [],
      "source": [
        "#VALUES FOR THE GIVEN ARE DECLARED HERE\n",
        "H = (1/np.sqrt(2))*np.array([[1,1],[1,-1]])\n",
        "Y = np.array([[0,-1j],[1j,0]])\n",
        "O = np.array([[1,0],[1,1]])"
      ]
    },
    {
      "cell_type": "markdown",
      "source": [
        "QUIVER FUNCTION PROVIDED BY **SIR DYLAN**"
      ],
      "metadata": {
        "id": "ML-7FzrExduG"
      }
    },
    {
      "cell_type": "code",
      "source": [
        "##THIS FUNCTION IS TAKEN FROM THE REFERENCES PROVIDED BY SIR DYLAN\n",
        "def plot_quiv(x,t_mat=np.eye(2)):\n",
        "    x_prime = x @ t_mat\n",
        "    size= (2,2)\n",
        "    plt.figure(figsize=(4,4))\n",
        "\n",
        "    plt.xlim(-size[0],size[0])\n",
        "    plt.ylim(-size[1],size[1])\n",
        "    plt.xticks(np.arange((-size[0]), size[0]+1, 1.0))\n",
        "    plt.yticks(np.arange((-size[1]), size[1]+1, 1.0))\n",
        "\n",
        "\n",
        "    plt.quiver([0,0],[0,0], x_prime[0,:], x_prime[1,:],\n",
        "               angles='xy', scale_units='xy',scale=1,\n",
        "               color=['red','blue'])\n",
        "    plt.grid()\n",
        "    plt.show()"
      ],
      "metadata": {
        "id": "TD_v65KCuJzU"
      },
      "execution_count": 30,
      "outputs": []
    },
    {
      "cell_type": "markdown",
      "source": [
        "**No. 1**  *(H • Y)*"
      ],
      "metadata": {
        "id": "TInvKL8NgX1_"
      }
    },
    {
      "cell_type": "code",
      "source": [
        "x1 = np.dot(H, Y)\n",
        "print(x1, '\\n\\nMagnitude:',round(np.linalg.norm(x1,ord=2),2))\n",
        "print('\\nAngle:\\n', np.angle(x1, deg=True))\n",
        "print('\\nPlotted Quivers:')\n",
        "plot_quiv(np.imag(x1))"
      ],
      "metadata": {
        "colab": {
          "base_uri": "https://localhost:8080/",
          "height": 548
        },
        "id": "Aj_F_tI7gXaP",
        "outputId": "53210fab-a50a-4bb1-e5ff-14a2b5adb01c"
      },
      "execution_count": 50,
      "outputs": [
        {
          "output_type": "stream",
          "name": "stdout",
          "text": [
            "[[0.+0.70710678j 0.-0.70710678j]\n",
            " [0.-0.70710678j 0.-0.70710678j]] \n",
            "\n",
            "Magnitude: 1.0\n",
            "\n",
            "Angle:\n",
            " [[ 90. -90.]\n",
            " [-90. -90.]]\n",
            "\n",
            "Plotted Quivers:\n"
          ]
        },
        {
          "output_type": "display_data",
          "data": {
            "text/plain": [
              "<Figure size 400x400 with 1 Axes>"
            ],
            "image/png": "[encoded data removed]"
          },
          "metadata": {}
        }
      ]
    },
    {
      "cell_type": "markdown",
      "source": [
        "**No. 2**  *(Y • H)*"
      ],
      "metadata": {
        "id": "6KSJxo3rhKO8"
      }
    },
    {
      "cell_type": "code",
      "source": [
        "x2 = np.dot(Y, H)\n",
        "print(x2, '\\n\\nMagnitude:',round(np.linalg.norm(x2,ord=2),2))\n",
        "print('\\nAngle:\\n', np.angle(x2, deg=True))\n",
        "print('\\nPlotted Quivers:')\n",
        "plot_quiv(np.imag(x2))"
      ],
      "metadata": {
        "colab": {
          "base_uri": "https://localhost:8080/",
          "height": 582
        },
        "id": "kEv5tsEbhX-S",
        "outputId": "a57c1ba9-44a1-4da8-de66-853bfddcbc96"
      },
      "execution_count": 42,
      "outputs": [
        {
          "output_type": "stream",
          "name": "stdout",
          "text": [
            "[[0.-0.70710678j 0.+0.70710678j]\n",
            " [0.+0.70710678j 0.+0.70710678j]] \n",
            "\n",
            "Magnitude: 1.0\n",
            "\n",
            "Angle:\n",
            " [[-90.  90.]\n",
            " [ 90.  90.]]\n",
            "\n",
            "Plotted Quivers:\n"
          ]
        },
        {
          "output_type": "display_data",
          "data": {
            "text/plain": [
              "<Figure size 400x400 with 1 Axes>"
            ],
            "image/png": "[encoded data removed]"
          },
          "metadata": {}
        },
        {
          "output_type": "stream",
          "name": "stdout",
          "text": [
            "[[-0.70710678  0.70710678]\n",
            " [ 0.70710678  0.70710678]]\n"
          ]
        }
      ]
    },
    {
      "cell_type": "markdown",
      "source": [
        "**No. 3**  *(H • H)*"
      ],
      "metadata": {
        "id": "atPKFAM4hKe3"
      }
    },
    {
      "cell_type": "code",
      "source": [
        "x3 = np.round(np.dot(H, H))\n",
        "print(x3, '\\n\\nMagnitude:',round(np.linalg.norm(x3,ord=2),2))\n",
        "print('\\nAngle:\\n', np.angle(x3, deg=True))\n",
        "print('\\nPlotted Quivers:')\n",
        "plot_quiv(x3)"
      ],
      "metadata": {
        "colab": {
          "base_uri": "https://localhost:8080/",
          "height": 548
        },
        "id": "yxUwJWezhdDT",
        "outputId": "e40fe326-a6c0-457c-fb25-f072759b9918"
      },
      "execution_count": 46,
      "outputs": [
        {
          "output_type": "stream",
          "name": "stdout",
          "text": [
            "[[ 1. -0.]\n",
            " [-0.  1.]] \n",
            "\n",
            "Magnitude: 1.0\n",
            "\n",
            "Angle:\n",
            " [[  0. 180.]\n",
            " [180.   0.]]\n",
            "\n",
            "Plotted Quivers:\n"
          ]
        },
        {
          "output_type": "display_data",
          "data": {
            "text/plain": [
              "<Figure size 400x400 with 1 Axes>"
            ],
            "image/png": "[encoded data removed]"
          },
          "metadata": {}
        }
      ]
    },
    {
      "cell_type": "markdown",
      "source": [
        "**No. 4**  *(Y • H • O)*"
      ],
      "metadata": {
        "id": "lID_KNQ4hKuZ"
      }
    },
    {
      "cell_type": "code",
      "source": [
        "x4 = np.round(np.dot(np.dot(Y, H), O))\n",
        "print(x4, '\\n\\nMagnitude:',round(np.linalg.norm(x4,ord=2),2))\n",
        "print('\\nAngle:\\n', np.angle(x4, deg=True))\n",
        "print('\\nPlotted Quivers:')\n",
        "plot_quiv(np.imag(x4))"
      ],
      "metadata": {
        "colab": {
          "base_uri": "https://localhost:8080/",
          "height": 548
        },
        "id": "_NZ8rf3zhhzf",
        "outputId": "1645dacf-f72f-407a-9129-eb4f1131b8ab"
      },
      "execution_count": 47,
      "outputs": [
        {
          "output_type": "stream",
          "name": "stdout",
          "text": [
            "[[0.+0.j 0.+1.j]\n",
            " [0.+1.j 0.+1.j]] \n",
            "\n",
            "Magnitude: 1.62\n",
            "\n",
            "Angle:\n",
            " [[ 0. 90.]\n",
            " [90. 90.]]\n",
            "\n",
            "Plotted Quivers:\n"
          ]
        },
        {
          "output_type": "display_data",
          "data": {
            "text/plain": [
              "<Figure size 400x400 with 1 Axes>"
            ],
            "image/png": "[encoded data removed]"
          },
          "metadata": {}
        }
      ]
    },
    {
      "cell_type": "markdown",
      "source": [
        "**No. 5**  *(H • Y • H • O)*"
      ],
      "metadata": {
        "id": "MYpcdZrrhK6j"
      }
    },
    {
      "cell_type": "code",
      "source": [
        "x5 = np.round(np.dot(np.dot(np.dot(H, Y), H), O))\n",
        "print(x5, '\\n\\nMagnitude:',round(np.linalg.norm(x5,ord=2),2))\n",
        "print('\\nAngle:\\n', np.angle(x5, deg=True))\n",
        "print('\\nPlotted Quivers:')\n",
        "plot_quiv(np.imag(x5))\n",
        "print(np.imag(x5))"
      ],
      "metadata": {
        "colab": {
          "base_uri": "https://localhost:8080/",
          "height": 582
        },
        "id": "9ThlydonhiBp",
        "outputId": "fcb50368-5975-4ef8-97a4-cf6ccf25e9ea"
      },
      "execution_count": 48,
      "outputs": [
        {
          "output_type": "stream",
          "name": "stdout",
          "text": [
            "[[0.+1.j 0.+1.j]\n",
            " [0.-1.j 0.+0.j]] \n",
            "\n",
            "Magnitude: 1.62\n",
            "\n",
            "Angle:\n",
            " [[ 90.  90.]\n",
            " [-90.   0.]]\n",
            "\n",
            "Plotted Quivers:\n"
          ]
        },
        {
          "output_type": "display_data",
          "data": {
            "text/plain": [
              "<Figure size 400x400 with 1 Axes>"
            ],
            "image/png": "[encoded data removed]"
          },
          "metadata": {}
        },
        {
          "output_type": "stream",
          "name": "stdout",
          "text": [
            "[[ 1.  1.]\n",
            " [-1.  0.]]\n"
          ]
        }
      ]
    },
    {
      "cell_type": "markdown",
      "source": [
        "# **Part 2**"
      ],
      "metadata": {
        "id": "vCFy0ShKZgiV"
      }
    },
    {
      "cell_type": "code",
      "source": [
        "print(\"Determinant of H:\",np.round(np.linalg.det(H)))\n",
        "print(\"Determinant of Y:\",np.round(np.linalg.det(Y)))"
      ],
      "metadata": {
        "colab": {
          "base_uri": "https://localhost:8080/"
        },
        "id": "euK8-1aWZjuz",
        "outputId": "3361cb38-9028-4528-d148-8ab95ee97f23"
      },
      "execution_count": null,
      "outputs": [
        {
          "output_type": "stream",
          "name": "stdout",
          "text": [
            "Determinant of H: -1.0\n",
            "Determinant of Y: (-1+0j)\n"
          ]
        }
      ]
    },
    {
      "cell_type": "markdown",
      "source": [
        "# **Part 3**"
      ],
      "metadata": {
        "id": "q99GSlb7e61y"
      }
    },
    {
      "cell_type": "markdown",
      "source": [
        "**No. 1**"
      ],
      "metadata": {
        "id": "EdfqAN9wZoxd"
      }
    },
    {
      "cell_type": "code",
      "source": [
        "a = np.array([[5,0,0],\n",
        "              [0,5,0],\n",
        "              [0,0,5]])\n",
        "\n",
        "b = np.array([[1,0,5],\n",
        "              [2,7,6],\n",
        "              [6,4,7]])\n",
        "\n",
        "prod = np.dot(a, b)\n",
        "print(prod,\"\\n\\nDeterminant:\",round(np.linalg.det(prod)))"
      ],
      "metadata": {
        "colab": {
          "base_uri": "https://localhost:8080/",
          "height": 0
        },
        "id": "FT8mXRSEZoa2",
        "outputId": "0b6b0e21-51f2-4ce7-d826-39b1c2a2eefc"
      },
      "execution_count": 4,
      "outputs": [
        {
          "output_type": "stream",
          "name": "stdout",
          "text": [
            "[[ 5  0 25]\n",
            " [10 35 30]\n",
            " [30 20 35]] \n",
            "\n",
            "Determinant: -18125\n"
          ]
        }
      ]
    },
    {
      "cell_type": "markdown",
      "source": [
        "**No. 2**"
      ],
      "metadata": {
        "id": "XDAe0l_HbTJB"
      }
    },
    {
      "cell_type": "code",
      "source": [
        "a = np.array([[1,2,6],\n",
        "              [3,15,4],\n",
        "              [2,10,3]])\n",
        "\n",
        "b = np.array([[5,2,4],\n",
        "              [6,2,4],\n",
        "              [0,1,1]])\n",
        "\n",
        "prod = np.dot(a, b)\n",
        "print(prod,\"\\n\\nDeterminant:\",round(np.linalg.det(prod)))"
      ],
      "metadata": {
        "colab": {
          "base_uri": "https://localhost:8080/"
        },
        "id": "E_kJ5iJobT8F",
        "outputId": "25b0ce0c-96c8-42d2-cb7f-9aebeca74d30"
      },
      "execution_count": null,
      "outputs": [
        {
          "output_type": "stream",
          "name": "stdout",
          "text": [
            "[[ 17  12  18]\n",
            " [105  40  76]\n",
            " [ 70  27  51]] \n",
            "\n",
            "Determinant: 6\n"
          ]
        }
      ]
    },
    {
      "cell_type": "markdown",
      "source": [
        "# **Part 4**"
      ],
      "metadata": {
        "id": "SxDb8_TSZraq"
      }
    },
    {
      "cell_type": "markdown",
      "source": [
        "**GIVEN VECTORS**"
      ],
      "metadata": {
        "id": "v1t_EUX1omNV"
      }
    },
    {
      "cell_type": "code",
      "source": [
        "#DECLARATION OF THE VECTORS GIVEN\n",
        "T = np.array([0, np.pi/4, np.pi/2, 3*np.pi/4, np.pi])\n",
        "G = np.array([5, 3, 0, -3, 5])"
      ],
      "metadata": {
        "id": "5ZM3Q5wNokMs"
      },
      "execution_count": null,
      "outputs": []
    },
    {
      "cell_type": "markdown",
      "source": [
        "**PLOT**"
      ],
      "metadata": {
        "id": "S39BQ9ijo_EE"
      }
    },
    {
      "cell_type": "code",
      "source": [
        "plt.plot(T, G,'-o')\n",
        "plt.xlabel('(T) Time')\n",
        "plt.ylabel('(G) Amplitude')\n",
        "plt.grid()\n",
        "plt.show()"
      ],
      "metadata": {
        "colab": {
          "base_uri": "https://localhost:8080/",
          "height": 449
        },
        "id": "orlLtct4Zn9k",
        "outputId": "d8e6a682-6cd5-41e6-983c-55b4fd110c45"
      },
      "execution_count": null,
      "outputs": [
        {
          "output_type": "display_data",
          "data": {
            "text/plain": [
              "<Figure size 640x480 with 1 Axes>"
            ],
            "image/png": "[encoded data removed]"
          },
          "metadata": {}
        }
      ]
    }
  ]
}